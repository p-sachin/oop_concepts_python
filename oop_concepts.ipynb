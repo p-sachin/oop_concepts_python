{
 "cells": [
  {
   "attachments": {},
   "cell_type": "markdown",
   "metadata": {},
   "source": [
    "#### Creation of the Class"
   ]
  },
  {
   "cell_type": "code",
   "execution_count": 1,
   "metadata": {},
   "outputs": [],
   "source": [
    "# Instance is a specific object created from a particular class. To create instances of a class, call the class\n",
    "# using the class name and pass in whatever arguments its constructor accepts.\n",
    "\n",
    "class Item:\n",
    "    pass\n",
    "\n",
    "# Creating an instance of the class\n",
    "item1 = Item()\n",
    "# Creating attributes\n",
    "item1.name = 'Phone'\n",
    "item1. price = 100\n",
    "item1.quantity = 5"
   ]
  },
  {
   "attachments": {},
   "cell_type": "markdown",
   "metadata": {},
   "source": [
    "#### Methods"
   ]
  },
  {
   "cell_type": "code",
   "execution_count": 4,
   "metadata": {},
   "outputs": [
    {
     "name": "stdout",
     "output_type": "stream",
     "text": [
      "500\n",
      "1500\n"
     ]
    }
   ],
   "source": [
    "class Item:\n",
    "    # python passes the object itself as a first argument when calling methods.\n",
    "    def calculate_total_price(self, x, y):\n",
    "        return x * y\n",
    "\n",
    "# Creating an instance of the class\n",
    "item1 = Item()\n",
    "# Creating attributes\n",
    "item1.name = 'Phone'\n",
    "item1. price = 100\n",
    "item1.quantity = 5\n",
    "print(item1.calculate_total_price(item1.price, item1.quantity))\n",
    "\n",
    "item2 = Item()\n",
    "item2.name = 'Laptop'\n",
    "item2. price = 500\n",
    "item2.quantity = 3\n",
    "print(item2.calculate_total_price(item2.price, item2.quantity))"
   ]
  },
  {
   "attachments": {},
   "cell_type": "markdown",
   "metadata": {},
   "source": [
    "#### Constructors"
   ]
  },
  {
   "cell_type": "code",
   "execution_count": 164,
   "metadata": {},
   "outputs": [],
   "source": [
    "import csv\n",
    "# Constructors are generally used for instantiating an objeect. __init__() method is called the constructor and is always\n",
    "# called when an object is created.\n",
    "# Class attributes belong to the class itself which are shared by all the instances. They are defined in the class body parts\n",
    "# at the top usually.\n",
    "# Instance attributes belongs to only one object. It is only accessible in the scope of the object and defined inside the constructor function\n",
    "# of the class.\n",
    "\n",
    "class Item:\n",
    "    pay_rate = 0.8 # Class attribute (The pay rate after 20% discount)\n",
    "    all = []\n",
    "    # We can also pass a default value on the parameters and make it optional attribute for our object\n",
    "    def __init__(self, name: str, price: float, quantity):\n",
    "        # Run validations to the received arguments\n",
    "        # Assert is a statement keyword that is used to check if there is a match or not.\n",
    "        assert price >= 0, f\"Price {price} is not greater than or equal to zero!\"\n",
    "        assert quantity >= 0, f\"Quantity {quantity} is not greater than or equal to zero!\"\n",
    "\n",
    "        # Assigning the instance attributes dynamically to the object\n",
    "        self.__name = name\n",
    "        self.__price = price\n",
    "        self.quantity = quantity\n",
    "\n",
    "        # Actions to execute\n",
    "        Item.all.append(self)\n",
    "\n",
    "    @property\n",
    "    def price(self):\n",
    "        return self.__price\n",
    "\n",
    "    def apply_discount(self):\n",
    "        self.__price = self.__price * self.pay_rate\n",
    "\n",
    "    def apply_increment(self, increment_val):\n",
    "        self.__price = self.__price + self.__price * increment_val\n",
    "\n",
    "    @property\n",
    "    # Property Decorator = Read only attribute\n",
    "    def name(self):\n",
    "        return self.__name\n",
    "\n",
    "    @name.setter\n",
    "    def name(self, value):\n",
    "        if len(value) > 10:\n",
    "            raise Exception(\"Name more than 10 characters\")\n",
    "        else:\n",
    "            self.__name = value\n",
    "        \n",
    "\n",
    "    def calculate_total_price(self):\n",
    "        # We assigned price and quantity attributes once the instances has been created\n",
    "        # which means that we have access to those attributes throughout the method in this class\n",
    "        return self.__price * self.quantity\n",
    "\n",
    "\n",
    "\n",
    "    # Converting instance method to class method as this method is responsible for instantiating the object.\n",
    "    # Class methods can be accessed from class level.\n",
    "    # We need to use decorators to convert this method to class method.\n",
    "    # Decorators in python is a way to change the behavior of the function. It can be preexecuted before another function.\n",
    "\n",
    "    @classmethod\n",
    "    def instantiate_from_csv(cls):\n",
    "        with open('items.csv', 'r') as f:\n",
    "            reader = csv.DictReader(f)\n",
    "            items = list(reader)\n",
    "\n",
    "        for item in items:\n",
    "            Item(\n",
    "                name=item.get('name'),\n",
    "                price=int(item.get('price')),\n",
    "                quantity=int(item.get('quantity')),\n",
    "            )\n",
    "\n",
    "    @staticmethod\n",
    "    def is_integer(num):\n",
    "        # We will count out the floats that are point zero\n",
    "        if isinstance(num, float):\n",
    "            # Count out the floats that are points zero\n",
    "            return num.is_integer()\n",
    "        elif isinstance(num, int):\n",
    "            return True\n",
    "        else:\n",
    "            return False\n",
    "\n",
    "    def __repr__(self):\n",
    "        return f\"{self.__class__.__name__}('{self.name}', {self.__price}, {self.quantity})\"\n",
    "\n",
    "\n",
    "    def __connect(self, server):\n",
    "        pass\n",
    "\n",
    "    def __prepare_body(self):\n",
    "        return f\"\"\"\n",
    "        Hello Someone. We have {self.name}, {self.quantity} times.\n",
    "        \"\"\"\n",
    "\n",
    "    def __send(self):\n",
    "        pass\n",
    "    \n",
    "    def send_email(self):\n",
    "        self.__connect('')\n",
    "        self.__prepare_body()\n",
    "        self.__send()\n",
    "\n",
    "\n",
    "\n",
    "\n",
    "\n",
    "# item1 = Item(\"Phone\", 100, 2)\n",
    "# item2 = Item(\"laptop\", 500, 3)\n",
    "\n",
    "# Access class attributes from class level\n",
    "#print(Item.pay_rate)\n",
    "# Access class attributes from instance level\n",
    "#print(item1.pay_rate)\n",
    "# Check all the attributes that belongs to an class level\n",
    "#print(Item.__dict__)\n",
    "# Check all the attributes that belongs to an instance level\n",
    "#print(item1.__dict__)\n",
    "# item1.apply_discount()\n",
    "# print(item1.price)\n",
    "# item2.pay_rate = 0.5\n",
    "# item2.apply_discount()\n",
    "# print(item2.price)\n"
   ]
  },
  {
   "attachments": {},
   "cell_type": "markdown",
   "metadata": {},
   "source": [
    "#### Creating Instances"
   ]
  },
  {
   "cell_type": "code",
   "execution_count": 85,
   "metadata": {},
   "outputs": [],
   "source": [
    "# item1 = Item(\"Phone\", 100, 1)\n",
    "# item2 = Item(\"Laptop\", 1000, 3)\n",
    "# item3 = Item(\"Cable\", 10, 5)\n",
    "# item4 = Item(\"Mouse\", 50, 5)\n",
    "# item5 = Item(\"Keyboard\", 75, 5)\n",
    "\n",
    "# print(Item.all)"
   ]
  },
  {
   "cell_type": "code",
   "execution_count": 86,
   "metadata": {},
   "outputs": [],
   "source": [
    "for instance in Item.all:\n",
    "    print(instance.name)"
   ]
  },
  {
   "cell_type": "code",
   "execution_count": 87,
   "metadata": {},
   "outputs": [
    {
     "data": {
      "text/plain": [
       "[Item('Phone', 100, 1),\n",
       " Item('Laptop', 1000, 3),\n",
       " Item('Cable', 10, 5),\n",
       " Item('Mouse', 50, 5),\n",
       " Item('Keyboard', 75, 5)]"
      ]
     },
     "execution_count": 87,
     "metadata": {},
     "output_type": "execute_result"
    }
   ],
   "source": [
    "Item.instantiate_from_csv()\n",
    "Item.all"
   ]
  },
  {
   "cell_type": "code",
   "execution_count": 88,
   "metadata": {},
   "outputs": [
    {
     "data": {
      "text/plain": [
       "True"
      ]
     },
     "execution_count": 88,
     "metadata": {},
     "output_type": "execute_result"
    }
   ],
   "source": [
    "Item.is_integer(7.0)"
   ]
  },
  {
   "attachments": {},
   "cell_type": "markdown",
   "metadata": {},
   "source": [
    "#### Class Methods and Static Methods\n",
    "\n",
    "When to use class methods and static methods?\n",
    "\n",
    "We will use a static method when we want to do something when we have a relationship with the class but not \n",
    "something that must be unique per instance. The static methods can also be used as a isolated function out the class\n",
    "however it is not a good practice although the static methods has nothing to do with the instance.\n",
    "\n",
    "We used class methods when we want to instantitate instances from some strucutre data that you own. It has a relationship with the class but usually used to manipulate different strucutres of data to instantitate objects.\n",
    "\n",
    "Static methods does not pass the object reference as the first argument in the background. It takes the regular parameter just like a function. Class methods take the mandatory parameter as the object reference.\n",
    "\n",
    "Class methods and static methods can be called from both class and instance levels. Good practice to call from class levels."
   ]
  },
  {
   "attachments": {},
   "cell_type": "markdown",
   "metadata": {},
   "source": [
    "#### Inheritance"
   ]
  },
  {
   "cell_type": "code",
   "execution_count": 91,
   "metadata": {},
   "outputs": [],
   "source": [
    "# For broken phones it is best to inherit the parent class Item as adding a instance attribute broken\n",
    "# phone to the constructor is not a good practice and make it complex.\n",
    "\n",
    "# Parent Class are those class which we inherit and Child Class are mutiple classes that inherit from parent class\n",
    "\n",
    "class Phone(Item):\n",
    "    def __init__(self, name: str, price: float, quantity, broken_phones):\n",
    "        # Call to super function to have access to all attributes / methods including class attributes\n",
    "        super().__init__(\n",
    "            name, price, quantity\n",
    "        )\n",
    "\n",
    "        # Run validations to the received argument\n",
    "        assert broken_phones >= 0, f\"Broken Phones {broken_phones} is not greater or equal to zero!\"\n",
    "\n",
    "        # Assign to self object\n",
    "        self.broken_phones = broken_phones\n",
    "\n",
    "phone1 = Phone(\"jscPhonev10\", 500, 5, 1)\n",
    "phone2 = Phone(\"jscPhonev20\", 400, 6, 1)"
   ]
  },
  {
   "cell_type": "code",
   "execution_count": 93,
   "metadata": {},
   "outputs": [
    {
     "name": "stdout",
     "output_type": "stream",
     "text": [
      "[Item('Phone', 100, 1), Item('Laptop', 1000, 3), Item('Cable', 10, 5), Item('Mouse', 50, 5), Item('Keyboard', 75, 5), Phone('jscPhonev10', 500, 5), Phone('jscPhonev20', 400, 6), Phone('jscPhonev10', 500, 5), Phone('jscPhonev20', 400, 6)]\n",
      "[Item('Phone', 100, 1), Item('Laptop', 1000, 3), Item('Cable', 10, 5), Item('Mouse', 50, 5), Item('Keyboard', 75, 5), Phone('jscPhonev10', 500, 5), Phone('jscPhonev20', 400, 6), Phone('jscPhonev10', 500, 5), Phone('jscPhonev20', 400, 6)]\n"
     ]
    }
   ],
   "source": [
    "print(Item.all)\n",
    "print(Phone.all)"
   ]
  },
  {
   "cell_type": "code",
   "execution_count": 143,
   "metadata": {},
   "outputs": [
    {
     "data": {
      "text/plain": [
       "'sachinpd'"
      ]
     },
     "execution_count": 143,
     "metadata": {},
     "output_type": "execute_result"
    }
   ],
   "source": [
    "my_item = Item(\"Newitem\", 750, 2)\n",
    "my_item.name = \"sachinpd\"\n",
    "my_item.name"
   ]
  },
  {
   "attachments": {},
   "cell_type": "markdown",
   "metadata": {},
   "source": [
    "#### OOP Principles"
   ]
  },
  {
   "attachments": {},
   "cell_type": "markdown",
   "metadata": {},
   "source": [
    "##### Encapsulation"
   ]
  },
  {
   "cell_type": "code",
   "execution_count": 145,
   "metadata": {},
   "outputs": [
    {
     "data": {
      "text/plain": [
       "864.0"
      ]
     },
     "execution_count": 145,
     "metadata": {},
     "output_type": "execute_result"
    }
   ],
   "source": [
    "# Encapsulation refers to the mechanism of restriciting the direct access to some of our attributes.\n",
    "#my_item.price = 400\n",
    "my_item.apply_increment(0.2)\n",
    "my_item.apply_discount()\n",
    "my_item.price\n"
   ]
  },
  {
   "attachments": {},
   "cell_type": "markdown",
   "metadata": {},
   "source": [
    "##### Abstraction"
   ]
  },
  {
   "cell_type": "code",
   "execution_count": 168,
   "metadata": {},
   "outputs": [],
   "source": [
    "# Abstraction is the concept of the OOP that only shows the necessaryy attributes and hides unnecessary information. The main purpose of \n",
    "# abstraction is basically hiding unnecessary details from the users. We should hide unnecssary methods / instances from the user by converting them into\n",
    "# private methods using __ in python.\n",
    "abs_item = Item(\"Sachin\", 200, 4)\n",
    "abs_item.name = \"Satish\"\n",
    "abs_item.send_email()"
   ]
  },
  {
   "attachments": {},
   "cell_type": "markdown",
   "metadata": {},
   "source": [
    "##### Inheritance"
   ]
  },
  {
   "cell_type": "code",
   "execution_count": 176,
   "metadata": {},
   "outputs": [],
   "source": [
    "# Inheritance is a mechanism that allows us to reuse our code across our classes. We can inherit from the parent class and use the attributes and methods\n",
    "# to our child class.\n",
    "class Laptop(Item):\n",
    "    def __init__(self, name: str, price: float, quantity):\n",
    "        super().__init__(name, price, quantity)\n",
    "\n",
    "\n",
    "dell = Laptop(\"Vostro\", 450, 1)\n",
    "dell.name = 'Alienware'"
   ]
  },
  {
   "attachments": {},
   "cell_type": "markdown",
   "metadata": {},
   "source": [
    "##### Polymorphism"
   ]
  },
  {
   "cell_type": "code",
   "execution_count": 188,
   "metadata": {},
   "outputs": [
    {
     "data": {
      "text/plain": [
       "90.0"
      ]
     },
     "execution_count": 188,
     "metadata": {},
     "output_type": "execute_result"
    }
   ],
   "source": [
    "# It refers to use of a single type entity to reprsent different types in different scenarios. Polymorphism means many forms. A entity could be a\n",
    "# function/methods. Example len() methods in python can be used in a string to count number of characters whereas it can also be used in a list to\n",
    "# count number of values.\n",
    "class Keyboard(Item):\n",
    "    pay_rate = 0.5\n",
    "    def __init__(self, name: str, price: float, quantity):\n",
    "        super().__init__(name, price, quantity)\n",
    "\n",
    "\n",
    "my_keyboard = Keyboard(\"Dell\", 150, 1)\n",
    "my_keyboard.price\n",
    "my_keyboard.apply_discount()\n",
    "my_keyboard.apply_increment(0.2)\n",
    "my_keyboard.price\n",
    "\n",
    "# In polymorphism, we can use a single entity from different kind of objects. We can have the control of attributes."
   ]
  }
 ],
 "metadata": {
  "kernelspec": {
   "display_name": "Python 3",
   "language": "python",
   "name": "python3"
  },
  "language_info": {
   "codemirror_mode": {
    "name": "ipython",
    "version": 3
   },
   "file_extension": ".py",
   "mimetype": "text/x-python",
   "name": "python",
   "nbconvert_exporter": "python",
   "pygments_lexer": "ipython3",
   "version": "3.8.4"
  },
  "orig_nbformat": 4,
  "vscode": {
   "interpreter": {
    "hash": "9650cb4e16cdd4a8e8e2d128bf38d875813998db22a3c986335f89e0cb4d7bb2"
   }
  }
 },
 "nbformat": 4,
 "nbformat_minor": 2
}
