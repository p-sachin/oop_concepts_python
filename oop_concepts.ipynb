{
 "cells": [
  {
   "attachments": {},
   "cell_type": "markdown",
   "metadata": {},
   "source": [
    "#### Creation of the Class"
   ]
  },
  {
   "cell_type": "code",
   "execution_count": 1,
   "metadata": {},
   "outputs": [],
   "source": [
    "# Instance is a specific object created from a particular class. To create instances of a class, call the class\n",
    "# using the class name and pass in whatever arguments its constructor accepts.\n",
    "\n",
    "class Item:\n",
    "    pass\n",
    "\n",
    "# Creating an instance of the class\n",
    "item1 = Item()\n",
    "# Creating attributes\n",
    "item1.name = 'Phone'\n",
    "item1. price = 100\n",
    "item1.quantity = 5"
   ]
  },
  {
   "attachments": {},
   "cell_type": "markdown",
   "metadata": {},
   "source": [
    "#### Methods"
   ]
  },
  {
   "cell_type": "code",
   "execution_count": 4,
   "metadata": {},
   "outputs": [
    {
     "name": "stdout",
     "output_type": "stream",
     "text": [
      "500\n",
      "1500\n"
     ]
    }
   ],
   "source": [
    "class Item:\n",
    "    # python passes the object itself as a first argument when calling methods.\n",
    "    def calculate_total_price(self, x, y):\n",
    "        return x * y\n",
    "\n",
    "# Creating an instance of the class\n",
    "item1 = Item()\n",
    "# Creating attributes\n",
    "item1.name = 'Phone'\n",
    "item1. price = 100\n",
    "item1.quantity = 5\n",
    "print(item1.calculate_total_price(item1.price, item1.quantity))\n",
    "\n",
    "item2 = Item()\n",
    "item2.name = 'Laptop'\n",
    "item2. price = 500\n",
    "item2.quantity = 3\n",
    "print(item2.calculate_total_price(item2.price, item2.quantity))"
   ]
  },
  {
   "attachments": {},
   "cell_type": "markdown",
   "metadata": {},
   "source": [
    "#### Constructors"
   ]
  },
  {
   "cell_type": "code",
   "execution_count": 30,
   "metadata": {},
   "outputs": [
    {
     "name": "stdout",
     "output_type": "stream",
     "text": [
      "200\n",
      "1500\n"
     ]
    }
   ],
   "source": [
    "# Constructors are generally used for instantiating an objeect. __init__() method is called the constructor and is always\n",
    "# called when an object is created.\n",
    "# Class attributes belong to the class itself which are shared by all the instances. They are defined in the class body parts\n",
    "# at the top usually.\n",
    "# Instance attributes belongs to only one object. It is only accessible in the scope of the object and defined inside the constructor function\n",
    "# of the class.\n",
    "\n",
    "\n",
    "class Item:\n",
    "    # We can also pass a default value on the parameters and make it opetional attribute for our object\n",
    "    def __init__(self, name: str, price: float, quantity):\n",
    "        # Run validations to the received arguments\n",
    "        # Assert is a statement keyword that is used to check if there is a match or not.\n",
    "        assert price >= 0, f\"Price {price} is not greater than or equal to zero!\"\n",
    "        assert quantity >= 0, f\"Quantity {quantity} is not greater than or equal to zero!\"\n",
    "\n",
    "        # Assigning the instance attributes dynamically to the object\n",
    "        self.name = name\n",
    "        self.price = price\n",
    "        self.quantity = quantity\n",
    "        \n",
    "\n",
    "    def calculate_total_price(self):\n",
    "        # We assigned price and quantity attributes once the instances has been created\n",
    "        # which means that we have access to those attributes throughout the method in this class\n",
    "        return self.price * self.quantity\n",
    "\n",
    "item1 = Item(\"Phone\", 100, 2)\n",
    "item2 = Item(\"laptop\", 500, 3)\n",
    "\n",
    "print(item1.calculate_total_price())\n",
    "print(item2.calculate_total_price())"
   ]
  }
 ],
 "metadata": {
  "kernelspec": {
   "display_name": "Python 3",
   "language": "python",
   "name": "python3"
  },
  "language_info": {
   "codemirror_mode": {
    "name": "ipython",
    "version": 3
   },
   "file_extension": ".py",
   "mimetype": "text/x-python",
   "name": "python",
   "nbconvert_exporter": "python",
   "pygments_lexer": "ipython3",
   "version": "3.8.4"
  },
  "orig_nbformat": 4,
  "vscode": {
   "interpreter": {
    "hash": "9650cb4e16cdd4a8e8e2d128bf38d875813998db22a3c986335f89e0cb4d7bb2"
   }
  }
 },
 "nbformat": 4,
 "nbformat_minor": 2
}
